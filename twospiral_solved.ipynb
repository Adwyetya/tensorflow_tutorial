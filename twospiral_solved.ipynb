{
 "cells": [
  {
   "cell_type": "markdown",
   "metadata": {},
   "source": [
    "## Training ANN on Two Spiral Dataset"
   ]
  },
  {
   "cell_type": "code",
   "execution_count": 1,
   "metadata": {
    "collapsed": true
   },
   "outputs": [],
   "source": [
    "import tensorflow as tf\n",
    "import numpy as np\n",
    "import pandas as pd\n",
    "import matplotlib.pyplot as plt \n",
    "\n",
    "def check_accuracy(predictions, labels):\n",
    "      pred_class = np.argmax(predictions, 1)\n",
    "      true_class = np.argmax(labels, 1)\n",
    "      return (100.0 * np.sum(pred_class == true_class) / predictions.shape[0])"
   ]
  },
  {
   "cell_type": "markdown",
   "metadata": {},
   "source": [
    "### View the Dataset"
   ]
  },
  {
   "cell_type": "code",
   "execution_count": 2,
   "metadata": {
    "collapsed": false
   },
   "outputs": [
    {
     "data": {
      "image/png": "[encoded data removed]",
      "text/plain": [
       "<matplotlib.figure.Figure at 0x1131c5940>"
      ]
     },
     "metadata": {},
     "output_type": "display_data"
    }
   ],
   "source": [
    "def plot_spirals(x, output, final):\n",
    "    df = pd.concat([x, output], axis=1)\n",
    "    if(final):\n",
    "        x1 = df['x'][df['Class']==0]\n",
    "        y1 = df['y'][df['Class']==0]\n",
    "        x2 = df['x'][df['Class']==1]\n",
    "        y2 = df['y'][df['Class']==1]\n",
    "    else: \n",
    "        x1 = df['x'][df['0']==0]\n",
    "        y1 = df['y'][df['0']==0]\n",
    "        x2 = df['x'][df['0']==1]\n",
    "        y2 = df['y'][df['0']==1]\n",
    "    plt.plot(x1,y1, 'bs')\n",
    "    plt.plot(x2,y2, 'g^')\n",
    "    plt.show()\n",
    "\n",
    "\n",
    "## import two-spiral data\n",
    "x = pd.read_csv('TwoSpiralX.csv')\n",
    "output = pd.read_csv('TwoSpiralY.csv')\n",
    "plot_spirals(x, output, False)"
   ]
  },
  {
   "cell_type": "markdown",
   "metadata": {},
   "source": [
    "### Testing & Training Data"
   ]
  },
  {
   "cell_type": "code",
   "execution_count": 3,
   "metadata": {
    "collapsed": true
   },
   "outputs": [],
   "source": [
    "x = np.array(x).astype(np.float32)\n",
    "output = np.array(output).astype(np.float32)\n",
    "## testing and training sets\n",
    "size = len(x)\n",
    "train_size = 164\n",
    "test_size = 30\n",
    "all_rows = np.array(list(range(size)))\n",
    "check = 100\n",
    "test_accs = list()\n",
    "counters = list()\n",
    "while(check != 15): ## make sure test sets are even \n",
    "      train_rows = np.random.choice(size, size = train_size, replace=False)\n",
    "      test_rows = np.array(list(set(all_rows) - set(train_rows)))\n",
    "      xtrain = x[train_rows,:]\n",
    "      ytrain = output[train_rows,:]\n",
    "      xtest = x[test_rows,:]\n",
    "      ytest = output[test_rows,:]\n",
    "      check = np.sum((ytest[:,0] == 1))"
   ]
  },
  {
   "cell_type": "markdown",
   "metadata": {},
   "source": [
    "### ANN Structure & Set-Up"
   ]
  },
  {
   "cell_type": "code",
   "execution_count": 4,
   "metadata": {
    "collapsed": false
   },
   "outputs": [],
   "source": [
    "## x and y placeholders \n",
    "x_ = tf.placeholder(tf.float32, [train_size, 2])\n",
    "y_ = tf.placeholder(tf.float32, [train_size, 2])\n",
    "eta_ = tf.placeholder(tf.float32, [])\n",
    "\n",
    "## ANN structure \n",
    "W1 = tf.Variable(tf.random_uniform([2, 128], minval=-.1, maxval=.1, dtype=np.float32))\n",
    "b1 = tf.Variable(tf.zeros([1, 128], dtype=np.float32))\n",
    "\n",
    "W2 = tf.Variable(tf.random_uniform([128, 64], minval=-.1, maxval=.1, dtype=np.float32))\n",
    "b2 = tf.Variable(tf.zeros([1, 64], dtype=np.float32))\n",
    "\n",
    "W3 = tf.Variable(tf.random_uniform([64, 32], minval=-.1, maxval=.1, dtype=np.float32))\n",
    "b3 = tf.Variable(tf.zeros([1, 32], dtype=np.float32))\n",
    "\n",
    "W4 = tf.Variable(tf.random_uniform([32, 2], minval=-.1, maxval=.1, dtype=np.float32))\n",
    "b4 = tf.Variable(tf.zeros([2], dtype=np.float32))\n",
    "\n",
    "y = tf.nn.softmax(tf.matmul(\n",
    "            (tf.nn.relu(tf.matmul(\n",
    "               (tf.nn.relu(tf.matmul(\n",
    "                  (tf.nn.relu(tf.matmul(xtrain, W1) + b1)),\n",
    "               W2) + b2)), \n",
    "            W3) + b3)), \n",
    "      W4) + b4)\n",
    "\n",
    "yt = tf.nn.softmax(tf.matmul(\n",
    "            (tf.nn.relu(tf.matmul(\n",
    "               (tf.nn.relu(tf.matmul(\n",
    "                  (tf.nn.relu(tf.matmul(xtest, W1) + b1)),\n",
    "               W2) + b2)), \n",
    "            W3) + b3)), \n",
    "      W4) + b4)\n",
    "\n",
    "## define loss and optimizer \n",
    "eps = .001\n",
    "eta = .001\n",
    "cross_entropy = -tf.reduce_sum(y_*tf.log(y + eps))\n",
    "train = tf.train.GradientDescentOptimizer(eta).minimize(cross_entropy)"
   ]
  },
  {
   "cell_type": "markdown",
   "metadata": {},
   "source": [
    "### Initialize & Launch Graph"
   ]
  },
  {
   "cell_type": "code",
   "execution_count": 5,
   "metadata": {
    "collapsed": true
   },
   "outputs": [],
   "source": [
    "## start session \n",
    "init = tf.initialize_all_variables()\n",
    "sess = tf.InteractiveSession()\n",
    "sess.run(init)\n",
    "CE_prev = 0 "
   ]
  },
  {
   "cell_type": "markdown",
   "metadata": {},
   "source": [
    "### Train"
   ]
  },
  {
   "cell_type": "code",
   "execution_count": 6,
   "metadata": {
    "collapsed": false
   },
   "outputs": [
    {
     "name": "stdout",
     "output_type": "stream",
     "text": [
      "Step: 0\n",
      "Train accuracy: 53.6585365854\n",
      "Test accuracy: 43.3333333333\n",
      "cross entropy : 113.376\n",
      "Step: 5000\n",
      "Train accuracy: 92.6829268293\n",
      "Test accuracy: 66.6666666667\n",
      "cross entropy : 22.7163\n",
      "Step: 10000\n",
      "Train accuracy: 100.0\n",
      "Test accuracy: 80.0\n",
      "cross entropy : -0.118493\n",
      "Step: 15000\n",
      "Train accuracy: 100.0\n",
      "Test accuracy: 80.0\n",
      "cross entropy : -0.145668\n"
     ]
    }
   ],
   "source": [
    "## train \n",
    "for i in range(20000):\n",
    "      result = sess.run([cross_entropy, train], feed_dict ={x_: xtrain, y_: ytrain, eta_: eta})\n",
    "      CE = result[0] \n",
    "      if i%5000 == 0:\n",
    "            print(\"Step: \" + str(i))\n",
    "            train_acc = check_accuracy(y.eval(), ytrain)\n",
    "            test_acc = check_accuracy(yt.eval(), ytest)\n",
    "            print('Train accuracy: ' + str(train_acc))\n",
    "            print('Test accuracy: ' + str(test_acc))\n",
    "            print('cross entropy : ' + str(CE))\n",
    "      ## if stuck, decrease learning rate\n",
    "      if ((CE == CE_prev) & (eta > .0001)):\n",
    "          eta = eta / 2\n",
    "      CE_prev = CE"
   ]
  },
  {
   "cell_type": "markdown",
   "metadata": {},
   "source": [
    "### Evaluate"
   ]
  },
  {
   "cell_type": "code",
   "execution_count": 7,
   "metadata": {
    "collapsed": false
   },
   "outputs": [
    {
     "name": "stdout",
     "output_type": "stream",
     "text": [
      "\n",
      "\n",
      "Train accuracy: 100.0\n",
      "Test accuracy: 80.0\n"
     ]
    },
    {
     "data": {
      "image/png": "[encoded data removed]",
      "text/plain": [
       "<matplotlib.figure.Figure at 0x1131ba048>"
      ]
     },
     "metadata": {},
     "output_type": "display_data"
    }
   ],
   "source": [
    "## evaluate model \n",
    "train_acc = check_accuracy(y.eval(), ytrain)\n",
    "test_acc = check_accuracy(yt.eval(), ytest)\n",
    "print('\\n')\n",
    "print('Train accuracy: ' + str(train_acc))\n",
    "print('Test accuracy: ' + str(test_acc))\n",
    "\n",
    "Y_preds = pd.DataFrame(np.argmax(y.eval(),1).tolist() + np.argmax(yt.eval(),1).tolist())\n",
    "Y_preds.columns = ['Class']\n",
    "X_concat = pd.DataFrame(np.concatenate((xtrain, xtest)))\n",
    "X_concat.columns = ['x', 'y']\n",
    "plot_spirals(X_concat, Y_preds, True)"
   ]
  },
  {
   "cell_type": "code",
   "execution_count": null,
   "metadata": {
    "collapsed": true
   },
   "outputs": [],
   "source": []
  }
 ],
 "metadata": {
  "anaconda-cloud": {},
  "kernelspec": {
   "display_name": "Python [tensorflow]",
   "language": "python",
   "name": "Python [tensorflow]"
  },
  "language_info": {
   "codemirror_mode": {
    "name": "ipython",
    "version": 3
   },
   "file_extension": ".py",
   "mimetype": "text/x-python",
   "name": "python",
   "nbconvert_exporter": "python",
   "pygments_lexer": "ipython3",
   "version": "3.5.2"
  }
 },
 "nbformat": 4,
 "nbformat_minor": 0
}
