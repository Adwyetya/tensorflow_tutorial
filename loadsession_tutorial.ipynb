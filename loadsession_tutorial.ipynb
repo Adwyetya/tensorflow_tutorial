{
 "cells": [
  {
   "cell_type": "markdown",
   "metadata": {
    "collapsed": false
   },
   "source": [
    "## Loading the multiplication results "
   ]
  },
  {
   "cell_type": "code",
   "execution_count": 11,
   "metadata": {
    "collapsed": true
   },
   "outputs": [],
   "source": [
    "import tensorflow as tf\n",
    "import numpy as np\n",
    "import pandas as pd\n",
    "import matplotlib.pyplot as plt"
   ]
  },
  {
   "cell_type": "markdown",
   "metadata": {},
   "source": [
    "### Create new multiplication data to test model on "
   ]
  },
  {
   "cell_type": "code",
   "execution_count": 12,
   "metadata": {
    "collapsed": true
   },
   "outputs": [],
   "source": [
    "x_data = np.float32(np.random.uniform(10, size=(2, 1)))   # random values from 0 to 10\n",
    "y_data = np.prod(x_data,axis=0)  # output is product of values "
   ]
  },
  {
   "cell_type": "markdown",
   "metadata": {},
   "source": [
    "### Set up parallel ANN structure"
   ]
  },
  {
   "cell_type": "code",
   "execution_count": 13,
   "metadata": {
    "collapsed": true
   },
   "outputs": [],
   "source": [
    "# Make placeholders\n",
    "x = tf.placeholder(tf.float32, shape=[2, 1])\n",
    "y_ = tf.placeholder(tf.float32, shape=[1])\n",
    "\n",
    "## ANN structure\n",
    "W1 = tf.Variable(tf.random_uniform([64, 2], minval=-1.0, maxval=1.0, dtype=np.float32))\n",
    "b1 = tf.Variable(tf.zeros([64,1], dtype=np.float32))\n",
    "\n",
    "W2 = tf.Variable(tf.random_uniform([32, 64],  minval=-1.0, maxval=1.0, dtype=np.float32))\n",
    "b2 = tf.Variable(tf.zeros([32,1], dtype=np.float32))\n",
    "\n",
    "W3 = tf.Variable(tf.random_uniform([16, 32], minval=-1.0, maxval=1.0, dtype=np.float32))\n",
    "b3 = tf.Variable(tf.zeros([16,1], dtype=np.float32))\n",
    "\n",
    "W4 = tf.Variable(tf.random_uniform([1, 16], minval=-1.0, maxval=1.0, dtype=np.float32))\n",
    "b4 = tf.Variable(tf.zeros([1], dtype=np.float32))\n",
    "\n",
    "h1 = tf.nn.sigmoid(tf.matmul(W1, x) + b1)\n",
    "h2 = tf.nn.relu(tf.matmul(W2, h1) + b2)\n",
    "h3 = tf.nn.sigmoid(tf.matmul(W3, h2) +  b3)\n",
    "y = tf.matmul(W4, h3) + b4\n",
    "\n",
    "loss = tf.reduce_mean(tf.square(y - y_))"
   ]
  },
  {
   "cell_type": "markdown",
   "metadata": {},
   "source": [
    "### start session"
   ]
  },
  {
   "cell_type": "code",
   "execution_count": 14,
   "metadata": {
    "collapsed": true
   },
   "outputs": [],
   "source": [
    "init = tf.initialize_all_variables()\n",
    "sess = tf.Session()\n",
    "sess.run(init)"
   ]
  },
  {
   "cell_type": "markdown",
   "metadata": {},
   "source": [
    "## Load stored weights & biases"
   ]
  },
  {
   "cell_type": "code",
   "execution_count": 15,
   "metadata": {
    "collapsed": false
   },
   "outputs": [],
   "source": [
    "saver = tf.train.Saver([W1, W2, W3, W4, b1, b2, b3, b4])\n",
    "saver.restore(sess, \"/tmp/multi_training.ckpt\")"
   ]
  },
  {
   "cell_type": "markdown",
   "metadata": {},
   "source": [
    "### Evaluate model "
   ]
  },
  {
   "cell_type": "code",
   "execution_count": 16,
   "metadata": {
    "collapsed": false
   },
   "outputs": [
    {
     "name": "stdout",
     "output_type": "stream",
     "text": [
      "X: [[ 8.11836338  9.10422993]]\n",
      "Actual Product : [ 73.91144562]\n",
      "Estimated Product : [[ 74.56949615]]\n",
      "Loss : 0.433031\n"
     ]
    }
   ],
   "source": [
    "## evaluate model on data\n",
    "print('X: ' + str(np.transpose(x_data)))\n",
    "print('Actual Product : ' + str(y_data))\n",
    "print('Estimated Product : ' + str(sess.run(y, feed_dict={x: x_data, y_: y_data})))\n",
    "print('Loss : ' + str(sess.run(loss, feed_dict={x: x_data, y_: y_data}))) "
   ]
  },
  {
   "cell_type": "code",
   "execution_count": null,
   "metadata": {
    "collapsed": true
   },
   "outputs": [],
   "source": []
  }
 ],
 "metadata": {
  "kernelspec": {
   "display_name": "Python [tensorflow]",
   "language": "python",
   "name": "Python [tensorflow]"
  },
  "language_info": {
   "codemirror_mode": {
    "name": "ipython",
    "version": 3
   },
   "file_extension": ".py",
   "mimetype": "text/x-python",
   "name": "python",
   "nbconvert_exporter": "python",
   "pygments_lexer": "ipython3",
   "version": "3.5.2"
  }
 },
 "nbformat": 4,
 "nbformat_minor": 0
}
