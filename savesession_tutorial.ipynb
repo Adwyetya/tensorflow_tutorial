{
 "cells": [
  {
   "cell_type": "markdown",
   "metadata": {
    "collapsed": false
   },
   "source": [
    "## A Multiplication example to demonstrate saving sessions "
   ]
  },
  {
   "cell_type": "code",
   "execution_count": 16,
   "metadata": {
    "collapsed": true
   },
   "outputs": [],
   "source": [
    "''' An ANN to learn multiplying 2 numbers together. Demonstrates saving session\n",
    "    variables '''\n",
    "\n",
    "import tensorflow as tf\n",
    "import numpy as np\n",
    "import pandas as pd\n",
    "import matplotlib.pyplot as plt"
   ]
  },
  {
   "cell_type": "markdown",
   "metadata": {},
   "source": [
    "### Multiplication dataset  "
   ]
  },
  {
   "cell_type": "code",
   "execution_count": 17,
   "metadata": {
    "collapsed": false
   },
   "outputs": [],
   "source": [
    "npts = 10000\n",
    "batch_size = 1000\n",
    "x_data = np.float32(np.random.uniform(10, size=(2, npts))) # random values from 0 to 10\n",
    "y_data = np.prod(x_data,axis=0)    # output is product of values "
   ]
  },
  {
   "cell_type": "markdown",
   "metadata": {},
   "source": [
    "## ANN Structure"
   ]
  },
  {
   "cell_type": "code",
   "execution_count": 18,
   "metadata": {
    "collapsed": true
   },
   "outputs": [],
   "source": [
    "# Make placeholders\n",
    "x = tf.placeholder(tf.float32, shape=[2, batch_size])\n",
    "y_ = tf.placeholder(tf.float32, shape=[batch_size])\n",
    "eta_ = tf.placeholder(tf.float32, shape=[])\n",
    "\n",
    "## ANN structure\n",
    "W1 = tf.Variable(tf.random_uniform([64, 2], minval=-1.0, maxval=1.0, dtype=np.float32))\n",
    "b1 = tf.Variable(tf.zeros([64,1], dtype=np.float32))\n",
    "\n",
    "W2 = tf.Variable(tf.random_uniform([32, 64],  minval=-1.0, maxval=1.0, dtype=np.float32))\n",
    "b2 = tf.Variable(tf.zeros([32,1], dtype=np.float32))\n",
    "\n",
    "W3 = tf.Variable(tf.random_uniform([16, 32], minval=-1.0, maxval=1.0, dtype=np.float32))\n",
    "b3 = tf.Variable(tf.zeros([16,1], dtype=np.float32))\n",
    "\n",
    "W4 = tf.Variable(tf.random_uniform([1, 16], minval=-1.0, maxval=1.0, dtype=np.float32))\n",
    "b4 = tf.Variable(tf.zeros([1], dtype=np.float32))\n",
    "\n",
    "h1 = tf.nn.sigmoid(tf.matmul(W1, x) + b1)\n",
    "h2 = tf.nn.relu(tf.matmul(W2, h1) + b2)\n",
    "h3 = tf.nn.sigmoid(tf.matmul(W3, h2) +  b3)\n",
    "y = tf.matmul(W4, h3) + b4\n",
    "\n",
    "## loss and optimizer\n",
    "eta = .001\n",
    "loss = tf.reduce_mean(tf.square(y - y_))\n",
    "optimizer = tf.train.GradientDescentOptimizer(eta)\n",
    "train = optimizer.minimize(loss)"
   ]
  },
  {
   "cell_type": "markdown",
   "metadata": {},
   "source": [
    "### start session "
   ]
  },
  {
   "cell_type": "code",
   "execution_count": 19,
   "metadata": {
    "collapsed": true
   },
   "outputs": [],
   "source": [
    "init = tf.initialize_all_variables()\n",
    "sess = tf.Session()\n",
    "sess.run(init)"
   ]
  },
  {
   "cell_type": "markdown",
   "metadata": {},
   "source": [
    "## Saver variable "
   ]
  },
  {
   "cell_type": "code",
   "execution_count": 20,
   "metadata": {
    "collapsed": true
   },
   "outputs": [],
   "source": [
    "## initialize save variable to save variables \n",
    "saver = tf.train.Saver([W1, W2, W3, W4, b1, b2, b3, b4])"
   ]
  },
  {
   "cell_type": "markdown",
   "metadata": {},
   "source": [
    "### Train"
   ]
  },
  {
   "cell_type": "code",
   "execution_count": 21,
   "metadata": {
    "collapsed": false
   },
   "outputs": [
    {
     "name": "stdout",
     "output_type": "stream",
     "text": [
      "step 0 loss 1176.03\n",
      "step 5000 loss 11.4912\n",
      "step 10000 loss 6.1416\n",
      "step 15000 loss 0.920219\n",
      "step 20000 loss 1.60601\n",
      "step 25000 loss 2.02759\n",
      "step 30000 loss 1.08083\n",
      "step 35000 loss 2.7872\n",
      "step 40000 loss 0.731079\n",
      "step 45000 loss 1.19055\n"
     ]
    }
   ],
   "source": [
    "for i in range(50000):\n",
    "    ## randomly sample \n",
    "    mypts = np.random.choice(npts, batch_size)\n",
    "    xbatch = x_data[:,mypts]\n",
    "    ybatch = y_data[mypts]\n",
    "    sess.run(train, feed_dict={x: xbatch, y_: ybatch})\n",
    "    if i % 5000 == 0:\n",
    "        print(\"step \" + str(i) + \" loss \" + str(sess.run(loss, feed_dict={x: xbatch, y_: ybatch, eta_: eta})))"
   ]
  },
  {
   "cell_type": "markdown",
   "metadata": {},
   "source": [
    "## Save to path "
   ]
  },
  {
   "cell_type": "code",
   "execution_count": 22,
   "metadata": {
    "collapsed": true
   },
   "outputs": [],
   "source": [
    "## save final variables\n",
    "save_path = saver.save(sess, \"/tmp/multi_training.ckpt\")"
   ]
  },
  {
   "cell_type": "code",
   "execution_count": null,
   "metadata": {
    "collapsed": true
   },
   "outputs": [],
   "source": []
  }
 ],
 "metadata": {
  "anaconda-cloud": {},
  "kernelspec": {
   "display_name": "Python [tensorflow]",
   "language": "python",
   "name": "Python [tensorflow]"
  },
  "language_info": {
   "codemirror_mode": {
    "name": "ipython",
    "version": 3
   },
   "file_extension": ".py",
   "mimetype": "text/x-python",
   "name": "python",
   "nbconvert_exporter": "python",
   "pygments_lexer": "ipython3",
   "version": "3.5.2"
  }
 },
 "nbformat": 4,
 "nbformat_minor": 0
}
